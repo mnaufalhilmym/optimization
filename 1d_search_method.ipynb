{
  "cells": [
    {
      "cell_type": "markdown",
      "metadata": {
        "id": "dX6024I3dv9P"
      },
      "source": [
        "Cari aproksimasi dari solusi optimal untuk objective function berikut:\n",
        "f(x) = 0.5x^2 - sin(x) dari interval mula-mula [0,2] dan interval target 0.2"
      ]
    },
    {
      "cell_type": "code",
      "execution_count": 12,
      "metadata": {
        "id": "V6Y3oZNLeTjD"
      },
      "outputs": [],
      "source": [
        "import math\n",
        "\n",
        "\n",
        "f = lambda x : 0.5*x**2 - math.sin(x)\n",
        "\n",
        "finalrange = 0.2\n",
        "initrange = 2\n",
        "\n",
        "a = lambda a0, p, b0: a0 + p * (b0 - a0)\n",
        "b = lambda a0, p, b0: a0 + (1 - p) * (b0 - a0)"
      ]
    },
    {
      "cell_type": "markdown",
      "metadata": {
        "id": "YfR9XNT3eIrq"
      },
      "source": [
        "## **Golden Section Method**"
      ]
    },
    {
      "cell_type": "markdown",
      "metadata": {
        "id": "X0hYY5VsgInD"
      },
      "source": [
        "### Jumlah iterasi yang diperlukan\n"
      ]
    },
    {
      "cell_type": "markdown",
      "metadata": {
        "id": "2ILEhOoWgvjY"
      },
      "source": [
        "(1 - p)^N <= k/2 \\\n",
        "N = log(k/2) / log(1 - p) \\\n",
        "dengan \\\n",
        "p = (3 - sqrt(5)) / 2 \\\n",
        "N = banyak iterasi \\\n",
        "k = interval target"
      ]
    },
    {
      "cell_type": "code",
      "execution_count": 13,
      "metadata": {
        "colab": {
          "base_uri": "https://localhost:8080/",
          "height": 0
        },
        "id": "shwK6Atugm5y",
        "outputId": "30241d2f-203d-4926-f42c-70849d177a4e"
      },
      "outputs": [
        {
          "name": "stdout",
          "output_type": "stream",
          "text": [
            "Diperlukan iterasi sebanyak 5 kali\n"
          ]
        }
      ],
      "source": [
        "p = (3 - math.sqrt(5))/2\n",
        "k = finalrange\n",
        "N = math.ceil(math.log(k/2) / math.log(1-p))\n",
        "\n",
        "print(\"Diperlukan iterasi sebanyak \"+ str(N)+\" kali\")"
      ]
    },
    {
      "cell_type": "markdown",
      "metadata": {
        "id": "L7xmT5LFqmud"
      },
      "source": [
        "### Mencari interval akhir"
      ]
    },
    {
      "cell_type": "code",
      "execution_count": 14,
      "metadata": {
        "colab": {
          "base_uri": "https://localhost:8080/",
          "height": 0
        },
        "id": "QzpLEqLHizOh",
        "outputId": "2854027a-7863-4a63-fb5a-d3266510c0e8"
      },
      "outputs": [
        {
          "name": "stdout",
          "output_type": "stream",
          "text": [
            "Iterasi ke-1\n",
            "f(a1) = -0.3999701161372551\n",
            "f(b1) = -0.18056756266212082\n",
            "Karena f(a1) < f(b1), solusi ada di antara a0 dan b1\n",
            "Interval terpilih: [0,1.2360679774997898]\n",
            "\n",
            "Iterasi ke-2\n",
            "f(a2) = -0.34333342056997784\n",
            "f(b2) = -0.399970116137255\n",
            "Karena f(b2) < f(a2), solusi ada di antara b1 dan a2\n",
            "Interval terpilih: [0.4721359549995794,1.2360679774997898]\n",
            "\n",
            "Iterasi ke-3\n",
            "f(a3) = -0.3999701161372551\n",
            "f(b3) = -0.36424552545718136\n",
            "Karena f(a3) < f(b3), solusi ada di antara a2 dan b3\n",
            "Interval terpilih: [0.4721359549995794,0.9442719099991589]\n",
            "\n",
            "Iterasi ke-4\n",
            "f(a4) = -0.3942931644674993\n",
            "f(b4) = -0.399970116137255\n",
            "Karena f(b4) < f(a4), solusi ada di antara b3 dan a4\n",
            "Interval terpilih: [0.6524758424985279,0.9442719099991589]\n",
            "\n",
            "Iterasi ke-5\n",
            "f(a5) = -0.3999701161372551\n",
            "f(b5) = -0.3930376911737774\n",
            "Karena f(a5) < f(b5), solusi ada di antara a4 dan b5\n",
            "Interval terpilih: [0.6524758424985279,0.8328157299974764]\n",
            "\n"
          ]
        }
      ],
      "source": [
        "a0 = 0\n",
        "b0 = 2\n",
        "\n",
        "for i in range(N):\n",
        "  fStr = lambda z: \"f(\"+z+str(iterasi)+\")\"\n",
        "\n",
        "  iterasi = i+1\n",
        "  print(\"Iterasi ke-\"+str(iterasi))\n",
        "  an = a(a0, p, b0)\n",
        "  bn = b(a0, p, b0)\n",
        "  fan = f(an)\n",
        "  fbn = f(bn)\n",
        "  print(fStr(\"a\")+\" = \"+str(fan))\n",
        "  print(fStr(\"b\")+\" = \"+str(fbn))\n",
        "\n",
        "  if fan < fbn:\n",
        "    b0 = bn\n",
        "    cond1 = fStr(\"a\")+\" < \"+fStr(\"b\")\n",
        "    cond2 = \"a\"+str(i)+\" dan \"+\"b\"+str(i+1)\n",
        "  elif fbn < fan:\n",
        "    a0 = an\n",
        "    cond1 = fStr(\"b\")+\" < \"+fStr(\"a\")\n",
        "    cond2 = \"b\"+str(i)+\" dan \"+\"a\"+str(i+1)\n",
        "  else:\n",
        "    b0 = bn\n",
        "    cond1 = fStr(\"a\")+\" = \"+fStr(\"b\")\n",
        "    cond2 = \"a\"+str(i)+\" dan \"+\"b\"+str(i+1)\n",
        "\n",
        "  print(\"Karena \"+cond1+\", solusi ada di antara \"+cond2)\n",
        "  print(\"Interval terpilih: [\"+str(a0)+\",\"+str(b0)+\"]\")\n",
        "\n",
        "  print()"
      ]
    },
    {
      "cell_type": "code",
      "execution_count": 15,
      "metadata": {
        "colab": {
          "base_uri": "https://localhost:8080/",
          "height": 0
        },
        "id": "1lActm-rpO7j",
        "outputId": "7f08b14a-7687-4876-8dc8-8a24ae5d1519"
      },
      "outputs": [
        {
          "name": "stdout",
          "output_type": "stream",
          "text": [
            "Interval akhir yang terpilih, yaitu [0.6524758424985279,0.8328157299974764] memiliki selisih 0.18033988749894858 sehingga memenuhi interval target 0.2.\n"
          ]
        }
      ],
      "source": [
        "print(\"Interval akhir yang terpilih, yaitu [\"+str(a0)+\",\"+str(b0)+\"] memiliki selisih \"+str(b0-a0)+\" sehingga memenuhi interval target 0.2.\")"
      ]
    },
    {
      "cell_type": "markdown",
      "metadata": {
        "id": "8SvnI9UuqSET"
      },
      "source": [
        "## **Fibonacci Method (e = 0.1)**"
      ]
    },
    {
      "cell_type": "code",
      "execution_count": 16,
      "metadata": {
        "id": "YKrPvizdrinI"
      },
      "outputs": [],
      "source": [
        "e = 0.1"
      ]
    },
    {
      "cell_type": "markdown",
      "metadata": {
        "id": "WOyfxgITqyeX"
      },
      "source": [
        "### Jumlah iterasi yang diperlukan"
      ]
    },
    {
      "cell_type": "markdown",
      "metadata": {
        "id": "qy-KgvNlq7fL"
      },
      "source": [
        "Mencari N agar F_N+1 >= (1 + 2e) / (finalrange/initrange)"
      ]
    },
    {
      "cell_type": "code",
      "execution_count": 17,
      "metadata": {
        "colab": {
          "base_uri": "https://localhost:8080/",
          "height": 0
        },
        "id": "d2fxzfCrrMsP",
        "outputId": "e1aaf60d-883d-4bd9-d821-eaae81b71ada"
      },
      "outputs": [
        {
          "name": "stdout",
          "output_type": "stream",
          "text": [
            "Didapat FN+1 >= 11.999999999999998 sehingga nilai fibonacci yang tepat di atasnya adalah 13 dengan N = 5\n"
          ]
        }
      ],
      "source": [
        "# mencari N\n",
        "\n",
        "Fn1 = (1+2*e)/(finalrange/initrange)\n",
        "\n",
        "fibo = 1\n",
        "lastfibo = fibo\n",
        "N = 1\n",
        "while fibo < Fn1:\n",
        "  nextfibo = fibo + lastfibo\n",
        "  lastfibo = fibo\n",
        "  fibo = nextfibo\n",
        "  N += 1\n",
        "\n",
        "N -= 1\n",
        "\n",
        "print(\"Didapat FN+1 >= \"+str(Fn1)+\" sehingga nilai fibonacci yang tepat di atasnya adalah \"+str(fibo)+\" dengan N = \"+str(N))\n"
      ]
    },
    {
      "cell_type": "markdown",
      "metadata": {
        "id": "DpwUyNzCuFaK"
      },
      "source": [
        "### Mencari interval akhir"
      ]
    },
    {
      "cell_type": "code",
      "execution_count": 18,
      "metadata": {
        "colab": {
          "base_uri": "https://localhost:8080/",
          "height": 0
        },
        "id": "kKI3e5fiuZD0",
        "outputId": "d6389ab8-66f9-4e12-aaf7-3a0917cc89b1"
      },
      "outputs": [
        {
          "name": "stdout",
          "output_type": "stream",
          "text": [
            "Iterasi ke-1\n",
            "f(a1) = -0.3997248055823529\n",
            "f(b1) = -0.18534917930331463\n",
            "Karena f(a1) < f(b1), solusi ada di antara a0 dan b1\n",
            "Interval terpilih: [0,1.2307692307692308]\n",
            "\n",
            "Iterasi ke-2\n",
            "f(a2) = -0.33881724760368515\n",
            "f(b2) = -0.39972480558235285\n",
            "Karena f(b2) < f(a2), solusi ada di antara b1 dan a2\n",
            "Interval terpilih: [0.46153846153846156,1.2307692307692308]\n",
            "\n",
            "Iterasi ke-3\n",
            "f(a3) = -0.39972480558235285\n",
            "f(b3) = -0.3714264099983645\n",
            "Karena f(a3) < f(b3), solusi ada di antara a2 dan b3\n",
            "Interval terpilih: [0.46153846153846156,0.9230769230769231]\n",
            "\n",
            "Iterasi ke-4\n",
            "f(a4) = -0.3879235108105931\n",
            "f(b4) = -0.39972480558235285\n",
            "Karena f(b4) < f(a4), solusi ada di antara b3 dan a4\n",
            "Interval terpilih: [0.6153846153846154,0.9230769230769231]\n",
            "\n",
            "Iterasi ke-5\n",
            "f(a5) = -0.39972480558235285\n",
            "f(b5) = -0.39972480558235285\n",
            "Karena f(a5) = f(b5), solusi ada di antara a4 dan b5\n",
            "Interval terpilih: [0.6153846153846154,0.7692307692307693]\n",
            "\n"
          ]
        }
      ],
      "source": [
        "def fibonacci(n):\n",
        "  fibo = 1\n",
        "  lastfibo = fibo\n",
        "  for i in range(n):\n",
        "    nextfibo = fibo + lastfibo\n",
        "    lastfibo = fibo\n",
        "    fibo = nextfibo\n",
        "  return fibo\n",
        "\n",
        "a0 = 0\n",
        "b0 = 2\n",
        "\n",
        "for i in range(N):\n",
        "  p = 1 - (fibonacci(N-(i+1)) / fibonacci(N-i))\n",
        "\n",
        "  fStr = lambda z: \"f(\"+z+str(iterasi)+\")\"\n",
        "\n",
        "  iterasi = i+1\n",
        "  print(\"Iterasi ke-\"+str(iterasi))\n",
        "  an = a(a0, p, b0)\n",
        "  bn = b(a0, p, b0)\n",
        "  fan = f(an)\n",
        "  fbn = f(bn)\n",
        "  print(fStr(\"a\")+\" = \"+str(fan))\n",
        "  print(fStr(\"b\")+\" = \"+str(fbn))\n",
        "\n",
        "  if fan < fbn:\n",
        "    b0 = bn\n",
        "    cond1 = fStr(\"a\")+\" < \"+fStr(\"b\")\n",
        "    cond2 = \"a\"+str(i)+\" dan \"+\"b\"+str(i+1)\n",
        "  elif fbn < fan:\n",
        "    a0 = an\n",
        "    cond1 = fStr(\"b\")+\" < \"+fStr(\"a\")\n",
        "    cond2 = \"b\"+str(i)+\" dan \"+\"a\"+str(i+1)\n",
        "  else:\n",
        "    b0 = bn\n",
        "    cond1 = fStr(\"a\")+\" = \"+fStr(\"b\")\n",
        "    cond2 = \"a\"+str(i)+\" dan \"+\"b\"+str(i+1)\n",
        "\n",
        "  print(\"Karena \"+cond1+\", solusi ada di antara \"+cond2)\n",
        "  print(\"Interval terpilih: [\"+str(a0)+\",\"+str(b0)+\"]\")\n",
        "\n",
        "  print()\n"
      ]
    },
    {
      "cell_type": "code",
      "execution_count": 19,
      "metadata": {
        "colab": {
          "base_uri": "https://localhost:8080/",
          "height": 0
        },
        "id": "kr53Wk-ByNnT",
        "outputId": "94fbf160-095c-490a-941c-5464421fe4d4"
      },
      "outputs": [
        {
          "name": "stdout",
          "output_type": "stream",
          "text": [
            "Interval akhir yang terpilih, yaitu [0.6153846153846154,0.7692307692307693] memiliki selisih 0.15384615384615385 sehingga memenuhi interval target 0.2.\n"
          ]
        }
      ],
      "source": [
        "print(\"Interval akhir yang terpilih, yaitu [\"+str(a0)+\",\"+str(b0)+\"] memiliki selisih \"+str(b0-a0)+\" sehingga memenuhi interval target 0.2.\")"
      ]
    },
    {
      "cell_type": "markdown",
      "metadata": {
        "id": "jSNbyDm0yGpF"
      },
      "source": [
        "## Bisection Method\n"
      ]
    },
    {
      "cell_type": "code",
      "execution_count": 20,
      "metadata": {
        "colab": {
          "base_uri": "https://localhost:8080/",
          "height": 0
        },
        "id": "BkNMDw6yyj7g",
        "outputId": "71eb1183-4c67-4298-f73e-9b301c6910d2"
      },
      "outputs": [
        {
          "name": "stdout",
          "output_type": "stream",
          "text": [
            "Turunan dari 0.5*x^2 - sin(x) adalah x - cos(x)\n"
          ]
        }
      ],
      "source": [
        "df = lambda x : x - math.cos(x)\n",
        "# dfxexp = sym.exp(x)\n",
        "\n",
        "print(\"Turunan dari 0.5*x^2 - sin(x) adalah x - cos(x)\")\n"
      ]
    },
    {
      "cell_type": "markdown",
      "metadata": {
        "id": "ekKveBEG0x5o"
      },
      "source": [
        "### Mencari interval akhir"
      ]
    },
    {
      "cell_type": "code",
      "execution_count": 21,
      "metadata": {
        "colab": {
          "base_uri": "https://localhost:8080/",
          "height": 0
        },
        "id": "yXFKzjEc0vWH",
        "outputId": "72760161-e84c-418c-a443-9a3ac01a750a"
      },
      "outputs": [
        {
          "name": "stdout",
          "output_type": "stream",
          "text": [
            "Iterasi ke-1\n",
            "x1 = 1.0\n",
            "df(x) = 0.45969769413186023\n",
            "Interval terpilih: [0,1.0]\n",
            "\n",
            "Iterasi ke-2\n",
            "x2 = 0.5\n",
            "df(x) = -0.37758256189037276\n",
            "Interval terpilih: [0.5,1.0]\n",
            "\n",
            "Iterasi ke-3\n",
            "x3 = 0.75\n",
            "df(x) = 0.018311131126179103\n",
            "Interval terpilih: [0.5,0.75]\n",
            "\n",
            "Iterasi ke-4\n",
            "x4 = 0.625\n",
            "df(x) = -0.18596311950521793\n",
            "Interval terpilih: [0.625,0.75]\n",
            "\n"
          ]
        }
      ],
      "source": [
        "a0 = 0\n",
        "b0 = 2\n",
        "\n",
        "i = 0\n",
        "while (b0 - a0) > finalrange:\n",
        "  print(\"Iterasi ke-\"+str(i+1))\n",
        "\n",
        "  xn = (a0 + b0) / 2\n",
        "  print(\"x\"+str(i+1)+\" = \"+str(xn))\n",
        "\n",
        "  dfn = df(xn)\n",
        "  print(\"df(x) = \"+str(dfn))\n",
        "\n",
        "  if dfn > 0.0:\n",
        "    b0 = xn\n",
        "    cond1 = \"df(x) > 0\"\n",
        "  elif dfn < 0.0:\n",
        "    a0 = xn\n",
        "    cond1 = \"df(x) < 0\"\n",
        "  else:\n",
        "    b0 = xn\n",
        "    cond1 = \"df(x) = 0\"\n",
        "\n",
        "  print(\"Interval terpilih: [\"+str(a0)+\",\"+str(b0)+\"]\")\n",
        "\n",
        "  i += 1\n",
        "\n",
        "  print()\n"
      ]
    },
    {
      "cell_type": "code",
      "execution_count": 22,
      "metadata": {
        "colab": {
          "base_uri": "https://localhost:8080/",
          "height": 0
        },
        "id": "CgShz4BL6ry6",
        "outputId": "96f7c996-a769-497f-c76d-6ceac2986478"
      },
      "outputs": [
        {
          "name": "stdout",
          "output_type": "stream",
          "text": [
            "Interval akhir yang terpilih, yaitu [0.625,0.75] memiliki selisih 0.125 sehingga memenuhi interval target 0.2.\n"
          ]
        }
      ],
      "source": [
        "print(\"Interval akhir yang terpilih, yaitu [\"+str(a0)+\",\"+str(b0)+\"] memiliki selisih \"+str(b0-a0)+\" sehingga memenuhi interval target 0.2.\")"
      ]
    }
  ],
  "metadata": {
    "colab": {
      "collapsed_sections": [],
      "provenance": []
    },
    "kernelspec": {
      "display_name": "Python 3.10.7 ('venv': venv)",
      "language": "python",
      "name": "python3"
    },
    "language_info": {
      "codemirror_mode": {
        "name": "ipython",
        "version": 3
      },
      "file_extension": ".py",
      "mimetype": "text/x-python",
      "name": "python",
      "nbconvert_exporter": "python",
      "pygments_lexer": "ipython3",
      "version": "3.10.7"
    },
    "vscode": {
      "interpreter": {
        "hash": "de69ab7382c674354269b6e4779c58c3b37d23e4e0da42149c307bae04533496"
      }
    }
  },
  "nbformat": 4,
  "nbformat_minor": 0
}
